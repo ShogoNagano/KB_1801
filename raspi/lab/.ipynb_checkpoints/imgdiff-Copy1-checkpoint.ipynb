{
 "cells": [
  {
   "cell_type": "code",
   "execution_count": 71,
   "metadata": {
    "ExecuteTime": {
     "end_time": "2018-10-20T10:14:44.218124Z",
     "start_time": "2018-10-20T10:14:44.211522Z"
    }
   },
   "outputs": [],
   "source": [
    "%matplotlib inline\n",
    "#画像をくっつける\n",
    "import pandas as pd#行列計算，データフレームの処理\n",
    "import cv2#画像処理\n",
    "import numpy as np#高速計算\n",
    "import seaborn as sns#可視化\n",
    "from matplotlib import pyplot as plt"
   ]
  },
  {
   "cell_type": "code",
   "execution_count": 92,
   "metadata": {
    "ExecuteTime": {
     "end_time": "2018-10-20T10:17:02.551805Z",
     "start_time": "2018-10-20T10:17:02.488406Z"
    }
   },
   "outputs": [],
   "source": [
    "img_src1 = cv2.imread(\"image10.jpg\", 0)\n",
    "img_src2 = cv2.imread(\"image2.jpg\", 0)\n",
    "#img_src1=cv2.cvtColor(img_src1, cv2.COLOR_BGR2HSV)\n",
    "#img_src2=cv2.cvtColor(img_src2, cv2.COLOR_BGR2HSV)\n",
    "#plt.imshow(img_src1)"
   ]
  },
  {
   "cell_type": "code",
   "execution_count": 99,
   "metadata": {
    "ExecuteTime": {
     "end_time": "2018-10-20T10:18:33.282666Z",
     "start_time": "2018-10-20T10:18:23.885332Z"
    }
   },
   "outputs": [],
   "source": [
    "hifuku = []\n",
    "for i in range (2,47):\n",
    "    img_src2 = cv2.imread(\"image%d.jpg\"%(i), 0)\n",
    "    fgbg = cv2.bgsegm.createBackgroundSubtractorMOG()\n",
    "    fgmask = fgbg.apply(img_src1)\n",
    "    fgmask = fgbg.apply(img_src2)\n",
    "#   kernel = np.ones((3,3),np.uint8)\n",
    "#    opening = cv2.morphologyEx(fgmask, cv2.MORPH_OPEN, kernel)\n",
    "#    closing = cv2.morphologyEx(opening, cv2.MORPH_CLOSE, kernel)\n",
    "#    fgmask=closing\n",
    "    cv2.imwrite(\"imgdiff%d_opcl.jpg\"%(i),fgmask)\n",
    "    hifuku.append(fgmask.flatten().sum())\n",
    "#plt.imshow(fgmask)"
   ]
  },
  {
   "cell_type": "code",
   "execution_count": 100,
   "metadata": {
    "ExecuteTime": {
     "end_time": "2018-10-20T10:18:35.986060Z",
     "start_time": "2018-10-20T10:18:35.779494Z"
    }
   },
   "outputs": [
    {
     "data": {
      "text/plain": [
       "<matplotlib.axes._subplots.AxesSubplot at 0x140264630>"
      ]
     },
     "execution_count": 100,
     "metadata": {},
     "output_type": "execute_result"
    },
    {
     "data": {
      "image/png": "[encoded data removed]",
      "text/plain": [
       "<Figure size 864x216 with 1 Axes>"
      ]
     },
     "metadata": {},
     "output_type": "display_data"
    }
   ],
   "source": [
    "plt.style.use('ggplot') \n",
    "font = {'family' : 'meiryo'}\n",
    "#matplotlib.rc('font', **font)\n",
    "pd.DataFrame(hifuku).plot(alpha=0.6, figsize=(12,3))"
   ]
  },
  {
   "cell_type": "code",
   "execution_count": 93,
   "metadata": {
    "ExecuteTime": {
     "end_time": "2018-10-20T10:17:02.828507Z",
     "start_time": "2018-10-20T10:17:02.825477Z"
    }
   },
   "outputs": [],
   "source": [
    "#img_diff = cv2.absdiff(img_src2, img_src1)\n",
    "\n",
    "# 差分を二値化\n",
    "#img_diffm = cv2.threshold(img_src1, 0, 255, cv2.THRESH_BINARY+cv2.THRESH_OTSU)"
   ]
  },
  {
   "cell_type": "code",
   "execution_count": 94,
   "metadata": {
    "ExecuteTime": {
     "end_time": "2018-10-20T10:17:05.049718Z",
     "start_time": "2018-10-20T10:17:03.164369Z"
    }
   },
   "outputs": [],
   "source": [
    "for i in range (2,47):\n",
    "# 背景画像との差分を算出\n",
    "    img_src2 = cv2.imread(\"image%d.jpg\"%(i), 0)\n",
    "    img_diff = cv2.absdiff(img_src2, img_src1)\n",
    "\n",
    "    # 差分を二値化\n",
    "    img_diffm = cv2.threshold(img_diff, 60, 255, cv2.THRESH_BINARY)[1]\n",
    "\n",
    "    # 膨張処理、収縮処理を施してマスク画像を生成\n",
    "    operator = np.ones((3, 3), np.uint8)\n",
    "    img_dilate = cv2.dilate(img_diffm, operator, iterations=4)\n",
    "    img_mask = cv2.erode(img_dilate, operator, iterations=4)\n",
    "    cv2.imwrite(\"imgdiff_binary_%d.jpg\"%(i),img_mask)"
   ]
  },
  {
   "cell_type": "code",
   "execution_count": 82,
   "metadata": {
    "ExecuteTime": {
     "end_time": "2018-10-20T10:14:57.478501Z",
     "start_time": "2018-10-20T10:14:57.461078Z"
    }
   },
   "outputs": [
    {
     "ename": "error",
     "evalue": "OpenCV(3.4.3) /Users/travis/build/skvark/opencv-python/opencv/modules/imgproc/src/color.hpp:255: error: (-2:Unspecified error) in function 'cv::CvtHelper<cv::Set<3, 4, -1>, cv::Set<1, -1, -1>, cv::Set<0, 2, 5>, cv::SizePolicy::NONE>::CvtHelper(InputArray, OutputArray, int) [VScn = cv::Set<3, 4, -1>, VDcn = cv::Set<1, -1, -1>, VDepth = cv::Set<0, 2, 5>, sizePolicy = cv::SizePolicy::NONE]'\n> Invalid number of channels in input image:\n>     'VScn::contains(scn)'\n> where\n>     'scn' is 1\n",
     "output_type": "error",
     "traceback": [
      "\u001b[0;31m---------------------------------------------------------------------------\u001b[0m",
      "\u001b[0;31merror\u001b[0m                                     Traceback (most recent call last)",
      "\u001b[0;32m<ipython-input-82-f6e5c296e1ca>\u001b[0m in \u001b[0;36m<module>\u001b[0;34m()\u001b[0m\n\u001b[0;32m----> 1\u001b[0;31m \u001b[0mplt\u001b[0m\u001b[0;34m.\u001b[0m\u001b[0mimshow\u001b[0m\u001b[0;34m(\u001b[0m\u001b[0mcv2\u001b[0m\u001b[0;34m.\u001b[0m\u001b[0mcvtColor\u001b[0m\u001b[0;34m(\u001b[0m\u001b[0mimg_mask\u001b[0m\u001b[0;34m,\u001b[0m \u001b[0mcv2\u001b[0m\u001b[0;34m.\u001b[0m\u001b[0mCOLOR_RGB2GRAY\u001b[0m\u001b[0;34m)\u001b[0m\u001b[0;34m)\u001b[0m\u001b[0;34m\u001b[0m\u001b[0m\n\u001b[0m",
      "\u001b[0;31merror\u001b[0m: OpenCV(3.4.3) /Users/travis/build/skvark/opencv-python/opencv/modules/imgproc/src/color.hpp:255: error: (-2:Unspecified error) in function 'cv::CvtHelper<cv::Set<3, 4, -1>, cv::Set<1, -1, -1>, cv::Set<0, 2, 5>, cv::SizePolicy::NONE>::CvtHelper(InputArray, OutputArray, int) [VScn = cv::Set<3, 4, -1>, VDcn = cv::Set<1, -1, -1>, VDepth = cv::Set<0, 2, 5>, sizePolicy = cv::SizePolicy::NONE]'\n> Invalid number of channels in input image:\n>     'VScn::contains(scn)'\n> where\n>     'scn' is 1\n"
     ]
    }
   ],
   "source": [
    "plt.imshow(cv2.cvtColor(img_mask, cv2.COLOR_RGB2GRAY))"
   ]
  },
  {
   "cell_type": "code",
   "execution_count": 16,
   "metadata": {
    "ExecuteTime": {
     "end_time": "2018-10-20T07:13:08.135150Z",
     "start_time": "2018-10-20T07:13:08.095236Z"
    }
   },
   "outputs": [
    {
     "data": {
      "text/plain": [
       "True"
      ]
     },
     "execution_count": 16,
     "metadata": {},
     "output_type": "execute_result"
    }
   ],
   "source": [
    "cv2.imwrite(\"test.jpg\",img_mask)"
   ]
  },
  {
   "cell_type": "code",
   "execution_count": 83,
   "metadata": {
    "ExecuteTime": {
     "end_time": "2018-10-20T10:15:17.126021Z",
     "start_time": "2018-10-20T10:15:00.315569Z"
    }
   },
   "outputs": [],
   "source": [
    "hifuku = []\n",
    "for i in range (2,47):\n",
    "    img_src2 = cv2.imread(\"image%d.jpg\"%(i), 1)\n",
    "    fgbg = cv2.bgsegm.createBackgroundSubtractorMOG()\n",
    "    fgmask = fgbg.apply(img_src1)\n",
    "    fgmask = fgbg.apply(img_src2)\n",
    "#   kernel = np.ones((3,3),np.uint8)\n",
    "#    opening = cv2.morphologyEx(fgmask, cv2.MORPH_OPEN, kernel)\n",
    "#    closing = cv2.morphologyEx(opening, cv2.MORPH_CLOSE, kernel)\n",
    "#    fgmask=closing\n",
    "    cv2.imwrite(\"imgdiff%d_opcl.jpg\"%(i),fgmask)\n",
    "    hifuku.append(fgmask.flatten().sum())\n",
    "#plt.imshow(fgmask)"
   ]
  },
  {
   "cell_type": "code",
   "execution_count": 84,
   "metadata": {
    "ExecuteTime": {
     "end_time": "2018-10-20T10:15:17.349474Z",
     "start_time": "2018-10-20T10:15:17.129330Z"
    }
   },
   "outputs": [
    {
     "data": {
      "text/plain": [
       "<matplotlib.axes._subplots.AxesSubplot at 0x13ff61f60>"
      ]
     },
     "execution_count": 84,
     "metadata": {},
     "output_type": "execute_result"
    },
    {
     "data": {
      "image/png": "[encoded data removed]",
      "text/plain": [
       "<Figure size 864x216 with 1 Axes>"
      ]
     },
     "metadata": {},
     "output_type": "display_data"
    }
   ],
   "source": [
    "plt.style.use('ggplot') \n",
    "font = {'family' : 'meiryo'}\n",
    "#matplotlib.rc('font', **font)\n",
    "pd.DataFrame(hifuku).plot(alpha=0.6, figsize=(12,3))"
   ]
  },
  {
   "cell_type": "code",
   "execution_count": 28,
   "metadata": {
    "ExecuteTime": {
     "end_time": "2018-10-20T06:30:02.811438Z",
     "start_time": "2018-10-20T06:30:02.805001Z"
    }
   },
   "outputs": [
    {
     "data": {
      "text/plain": [
       "24456030"
      ]
     },
     "execution_count": 28,
     "metadata": {},
     "output_type": "execute_result"
    }
   ],
   "source": [
    "fgmask.flatten().sum()"
   ]
  },
  {
   "cell_type": "code",
   "execution_count": 15,
   "metadata": {
    "ExecuteTime": {
     "end_time": "2018-10-20T06:27:54.107878Z",
     "start_time": "2018-10-20T06:27:53.842093Z"
    }
   },
   "outputs": [],
   "source": [
    "fgbg = cv2.bgsegm.createBackgroundSubtractorMOG()\n",
    "fgmask = fgbg.apply(img_src1)\n",
    "fgmask = fgbg.apply(img_src2)"
   ]
  },
  {
   "cell_type": "code",
   "execution_count": 19,
   "metadata": {
    "ExecuteTime": {
     "end_time": "2018-10-20T06:28:01.771981Z",
     "start_time": "2018-10-20T06:28:01.571449Z"
    }
   },
   "outputs": [
    {
     "data": {
      "text/plain": [
       "<matplotlib.image.AxesImage at 0x129d6b160>"
      ]
     },
     "execution_count": 19,
     "metadata": {},
     "output_type": "execute_result"
    },
    {
     "data": {
      "image/png": "[encoded data removed]",
      "text/plain": [
       "<Figure size 432x288 with 1 Axes>"
      ]
     },
     "metadata": {},
     "output_type": "display_data"
    }
   ],
   "source": [
    "plt.imshow(fgmask)"
   ]
  },
  {
   "cell_type": "code",
   "execution_count": 13,
   "metadata": {
    "ExecuteTime": {
     "end_time": "2018-10-20T06:14:21.285757Z",
     "start_time": "2018-10-20T06:14:21.225554Z"
    }
   },
   "outputs": [],
   "source": [
    "# 背景画像との差分を算出\n",
    "img_diff = cv2.absdiff(img_src2, img_src1)\n",
    "\n",
    "# 差分を二値化\n",
    "img_diffm = cv2.threshold(img_diff, 20, 255, cv2.THRESH_BINARY)[1]\n",
    "\n",
    "\n",
    "# 膨張処理、収縮処理を施してマスク画像を生成\n",
    "operator = np.ones((3, 3), np.uint8)\n",
    "img_dilate = cv2.dilate(img_diffm, operator, iterations=4)\n",
    "img_mask = cv2.erode(img_dilate, operator, iterations=4)\n",
    "\n",
    "# マスク画像を使って対象を切り出す\n",
    "img_dst = cv2.bitwise_and(img_src2, img_mask)"
   ]
  },
  {
   "cell_type": "code",
   "execution_count": 10,
   "metadata": {
    "ExecuteTime": {
     "end_time": "2018-10-20T06:09:55.643431Z",
     "start_time": "2018-10-20T06:09:55.522655Z"
    }
   },
   "outputs": [
    {
     "ename": "AttributeError",
     "evalue": "module 'cv2.cv2' has no attribute 'bgsegm'",
     "output_type": "error",
     "traceback": [
      "\u001b[0;31m---------------------------------------------------------------------------\u001b[0m",
      "\u001b[0;31mAttributeError\u001b[0m                            Traceback (most recent call last)",
      "\u001b[0;32m<ipython-input-10-652c63dff9fd>\u001b[0m in \u001b[0;36m<module>\u001b[0;34m()\u001b[0m\n\u001b[1;32m      3\u001b[0m \u001b[0mimg_src2\u001b[0m \u001b[0;34m=\u001b[0m \u001b[0mcv2\u001b[0m\u001b[0;34m.\u001b[0m\u001b[0mimread\u001b[0m\u001b[0;34m(\u001b[0m\u001b[0;34m\"image2.jpg\"\u001b[0m\u001b[0;34m,\u001b[0m \u001b[0;36m1\u001b[0m\u001b[0;34m)\u001b[0m\u001b[0;34m\u001b[0m\u001b[0m\n\u001b[1;32m      4\u001b[0m \u001b[0;34m\u001b[0m\u001b[0m\n\u001b[0;32m----> 5\u001b[0;31m \u001b[0mfgbg\u001b[0m \u001b[0;34m=\u001b[0m \u001b[0mcv2\u001b[0m\u001b[0;34m.\u001b[0m\u001b[0mbgsegm\u001b[0m\u001b[0;34m.\u001b[0m\u001b[0mcreateBackgroundSubtractorMOG\u001b[0m\u001b[0;34m(\u001b[0m\u001b[0;34m)\u001b[0m\u001b[0;34m\u001b[0m\u001b[0m\n\u001b[0m\u001b[1;32m      6\u001b[0m \u001b[0;34m\u001b[0m\u001b[0m\n\u001b[1;32m      7\u001b[0m \u001b[0mfgmask\u001b[0m \u001b[0;34m=\u001b[0m \u001b[0mfgbg\u001b[0m\u001b[0;34m.\u001b[0m\u001b[0mapply\u001b[0m\u001b[0;34m(\u001b[0m\u001b[0mimg_src1\u001b[0m\u001b[0;34m)\u001b[0m\u001b[0;34m\u001b[0m\u001b[0m\n",
      "\u001b[0;31mAttributeError\u001b[0m: module 'cv2.cv2' has no attribute 'bgsegm'"
     ]
    }
   ],
   "source": [
    "# 画像の読み込み\n",
    "img_src1 = cv2.imread(\"image1.jpg\", 1)\n",
    "img_src2 = cv2.imread(\"image2.jpg\", 1)\n",
    "\n",
    "fgbg = cv2.bgsegm.createBackgroundSubtractorMOG()\n",
    "\n",
    "fgmask = fgbg.apply(img_src1)\n",
    "fgmask = fgbg.apply(img_src2)\n",
    "\n",
    "# 表示\n",
    "plt.imshow(fgmask)\n",
    "\n",
    "# 検出画像\n",
    "#bg_diff_path  = './diff.jpg'\n",
    "#cv2.imwrite(bg_diff_path,fgmask)\n",
    "\n",
    "#cv2.waitKey(0)\n",
    "#cv2.destroyAllWindows()"
   ]
  },
  {
   "cell_type": "code",
   "execution_count": null,
   "metadata": {},
   "outputs": [],
   "source": []
  }
 ],
 "metadata": {
  "kernelspec": {
   "display_name": "Python 3",
   "language": "python",
   "name": "python3"
  },
  "language_info": {
   "codemirror_mode": {
    "name": "ipython",
    "version": 3
   },
   "file_extension": ".py",
   "mimetype": "text/x-python",
   "name": "python",
   "nbconvert_exporter": "python",
   "pygments_lexer": "ipython3",
   "version": "3.6.5"
  }
 },
 "nbformat": 4,
 "nbformat_minor": 2
}
